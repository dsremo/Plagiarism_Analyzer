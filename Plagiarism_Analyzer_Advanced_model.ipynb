{
  "nbformat": 4,
  "nbformat_minor": 0,
  "metadata": {
    "colab": {
      "provenance": [],
      "gpuType": "T4"
    },
    "kernelspec": {
      "name": "python3",
      "display_name": "Python 3"
    },
    "language_info": {
      "name": "python"
    },
    "accelerator": "GPU"
  },
  "cells": [
    {
      "cell_type": "code",
      "source": [
        "import numpy as np\n",
        "import pandas as pd\n",
        "import matplotlib.pyplot as plt\n",
        "import seaborn as sns\n",
        "import os"
      ],
      "metadata": {
        "id": "BtGsCwVV8iED"
      },
      "execution_count": 1,
      "outputs": []
    },
    {
      "cell_type": "code",
      "source": [
        "from collections import Counter"
      ],
      "metadata": {
        "id": "LQ1ADdzn8i8_"
      },
      "execution_count": 2,
      "outputs": []
    },
    {
      "cell_type": "code",
      "source": [
        "def read_docu(file):\n",
        "\n",
        "    all_words = []\n",
        "\n",
        "    with open(file, \"r\", encoding = \"utf-8\") as input_file:\n",
        "        for line in input_file:\n",
        "            line = line.lower()\n",
        "            line = line.strip().split()\n",
        "            all_words += line\n",
        "        return(all_words)\n",
        "\n",
        "def word_counter(all_words):\n",
        "\n",
        "    word_count = Counter()\n",
        "    for word in all_words:\n",
        "        word_count[word] += 1\n",
        "    return(word_count.values())"
      ],
      "metadata": {
        "id": "0mQwck_c8kVH"
      },
      "execution_count": 3,
      "outputs": []
    },
    {
      "cell_type": "code",
      "source": [
        "df= pd.read_csv('train_snli.txt', sep='\\t')\n",
        "df.head()"
      ],
      "metadata": {
        "colab": {
          "base_uri": "https://localhost:8080/",
          "height": 206
        },
        "id": "qG4BWoO28rqi",
        "outputId": "1651a6bc-e4ea-4500-eff1-e21f5f29a38b"
      },
      "execution_count": 4,
      "outputs": [
        {
          "output_type": "execute_result",
          "data": {
            "text/plain": [
              "  A person on a horse jumps over a broken down airplane.  \\\n",
              "0  A person on a horse jumps over a broken down a...       \n",
              "1              Children smiling and waving at camera       \n",
              "2              Children smiling and waving at camera       \n",
              "3  A boy is jumping on skateboard in the middle o...       \n",
              "4  A boy is jumping on skateboard in the middle o...       \n",
              "\n",
              "  A person is at a diner, ordering an omelette.    0  \n",
              "0             A person is outdoors, on a horse.  1.0  \n",
              "1                    There are children present  1.0  \n",
              "2                         The kids are frowning  0.0  \n",
              "3             The boy skates down the sidewalk.  0.0  \n",
              "4           The boy does a skateboarding trick.  1.0  "
            ],
            "text/html": [
              "\n",
              "  <div id=\"df-82415421-3017-4e2a-9915-87459b5a80bf\" class=\"colab-df-container\">\n",
              "    <div>\n",
              "<style scoped>\n",
              "    .dataframe tbody tr th:only-of-type {\n",
              "        vertical-align: middle;\n",
              "    }\n",
              "\n",
              "    .dataframe tbody tr th {\n",
              "        vertical-align: top;\n",
              "    }\n",
              "\n",
              "    .dataframe thead th {\n",
              "        text-align: right;\n",
              "    }\n",
              "</style>\n",
              "<table border=\"1\" class=\"dataframe\">\n",
              "  <thead>\n",
              "    <tr style=\"text-align: right;\">\n",
              "      <th></th>\n",
              "      <th>A person on a horse jumps over a broken down airplane.</th>\n",
              "      <th>A person is at a diner, ordering an omelette.</th>\n",
              "      <th>0</th>\n",
              "    </tr>\n",
              "  </thead>\n",
              "  <tbody>\n",
              "    <tr>\n",
              "      <th>0</th>\n",
              "      <td>A person on a horse jumps over a broken down a...</td>\n",
              "      <td>A person is outdoors, on a horse.</td>\n",
              "      <td>1.0</td>\n",
              "    </tr>\n",
              "    <tr>\n",
              "      <th>1</th>\n",
              "      <td>Children smiling and waving at camera</td>\n",
              "      <td>There are children present</td>\n",
              "      <td>1.0</td>\n",
              "    </tr>\n",
              "    <tr>\n",
              "      <th>2</th>\n",
              "      <td>Children smiling and waving at camera</td>\n",
              "      <td>The kids are frowning</td>\n",
              "      <td>0.0</td>\n",
              "    </tr>\n",
              "    <tr>\n",
              "      <th>3</th>\n",
              "      <td>A boy is jumping on skateboard in the middle o...</td>\n",
              "      <td>The boy skates down the sidewalk.</td>\n",
              "      <td>0.0</td>\n",
              "    </tr>\n",
              "    <tr>\n",
              "      <th>4</th>\n",
              "      <td>A boy is jumping on skateboard in the middle o...</td>\n",
              "      <td>The boy does a skateboarding trick.</td>\n",
              "      <td>1.0</td>\n",
              "    </tr>\n",
              "  </tbody>\n",
              "</table>\n",
              "</div>\n",
              "    <div class=\"colab-df-buttons\">\n",
              "\n",
              "  <div class=\"colab-df-container\">\n",
              "    <button class=\"colab-df-convert\" onclick=\"convertToInteractive('df-82415421-3017-4e2a-9915-87459b5a80bf')\"\n",
              "            title=\"Convert this dataframe to an interactive table.\"\n",
              "            style=\"display:none;\">\n",
              "\n",
              "  <svg xmlns=\"http://www.w3.org/2000/svg\" height=\"24px\" viewBox=\"0 -960 960 960\">\n",
              "    <path d=\"M120-120v-720h720v720H120Zm60-500h600v-160H180v160Zm220 220h160v-160H400v160Zm0 220h160v-160H400v160ZM180-400h160v-160H180v160Zm440 0h160v-160H620v160ZM180-180h160v-160H180v160Zm440 0h160v-160H620v160Z\"/>\n",
              "  </svg>\n",
              "    </button>\n",
              "\n",
              "  <style>\n",
              "    .colab-df-container {\n",
              "      display:flex;\n",
              "      gap: 12px;\n",
              "    }\n",
              "\n",
              "    .colab-df-convert {\n",
              "      background-color: #E8F0FE;\n",
              "      border: none;\n",
              "      border-radius: 50%;\n",
              "      cursor: pointer;\n",
              "      display: none;\n",
              "      fill: #1967D2;\n",
              "      height: 32px;\n",
              "      padding: 0 0 0 0;\n",
              "      width: 32px;\n",
              "    }\n",
              "\n",
              "    .colab-df-convert:hover {\n",
              "      background-color: #E2EBFA;\n",
              "      box-shadow: 0px 1px 2px rgba(60, 64, 67, 0.3), 0px 1px 3px 1px rgba(60, 64, 67, 0.15);\n",
              "      fill: #174EA6;\n",
              "    }\n",
              "\n",
              "    .colab-df-buttons div {\n",
              "      margin-bottom: 4px;\n",
              "    }\n",
              "\n",
              "    [theme=dark] .colab-df-convert {\n",
              "      background-color: #3B4455;\n",
              "      fill: #D2E3FC;\n",
              "    }\n",
              "\n",
              "    [theme=dark] .colab-df-convert:hover {\n",
              "      background-color: #434B5C;\n",
              "      box-shadow: 0px 1px 3px 1px rgba(0, 0, 0, 0.15);\n",
              "      filter: drop-shadow(0px 1px 2px rgba(0, 0, 0, 0.3));\n",
              "      fill: #FFFFFF;\n",
              "    }\n",
              "  </style>\n",
              "\n",
              "    <script>\n",
              "      const buttonEl =\n",
              "        document.querySelector('#df-82415421-3017-4e2a-9915-87459b5a80bf button.colab-df-convert');\n",
              "      buttonEl.style.display =\n",
              "        google.colab.kernel.accessAllowed ? 'block' : 'none';\n",
              "\n",
              "      async function convertToInteractive(key) {\n",
              "        const element = document.querySelector('#df-82415421-3017-4e2a-9915-87459b5a80bf');\n",
              "        const dataTable =\n",
              "          await google.colab.kernel.invokeFunction('convertToInteractive',\n",
              "                                                    [key], {});\n",
              "        if (!dataTable) return;\n",
              "\n",
              "        const docLinkHtml = 'Like what you see? Visit the ' +\n",
              "          '<a target=\"_blank\" href=https://colab.research.google.com/notebooks/data_table.ipynb>data table notebook</a>'\n",
              "          + ' to learn more about interactive tables.';\n",
              "        element.innerHTML = '';\n",
              "        dataTable['output_type'] = 'display_data';\n",
              "        await google.colab.output.renderOutput(dataTable, element);\n",
              "        const docLink = document.createElement('div');\n",
              "        docLink.innerHTML = docLinkHtml;\n",
              "        element.appendChild(docLink);\n",
              "      }\n",
              "    </script>\n",
              "  </div>\n",
              "\n",
              "\n",
              "<div id=\"df-2a509a39-a593-4c70-a7de-ded815b3acbe\">\n",
              "  <button class=\"colab-df-quickchart\" onclick=\"quickchart('df-2a509a39-a593-4c70-a7de-ded815b3acbe')\"\n",
              "            title=\"Suggest charts\"\n",
              "            style=\"display:none;\">\n",
              "\n",
              "<svg xmlns=\"http://www.w3.org/2000/svg\" height=\"24px\"viewBox=\"0 0 24 24\"\n",
              "     width=\"24px\">\n",
              "    <g>\n",
              "        <path d=\"M19 3H5c-1.1 0-2 .9-2 2v14c0 1.1.9 2 2 2h14c1.1 0 2-.9 2-2V5c0-1.1-.9-2-2-2zM9 17H7v-7h2v7zm4 0h-2V7h2v10zm4 0h-2v-4h2v4z\"/>\n",
              "    </g>\n",
              "</svg>\n",
              "  </button>\n",
              "\n",
              "<style>\n",
              "  .colab-df-quickchart {\n",
              "      --bg-color: #E8F0FE;\n",
              "      --fill-color: #1967D2;\n",
              "      --hover-bg-color: #E2EBFA;\n",
              "      --hover-fill-color: #174EA6;\n",
              "      --disabled-fill-color: #AAA;\n",
              "      --disabled-bg-color: #DDD;\n",
              "  }\n",
              "\n",
              "  [theme=dark] .colab-df-quickchart {\n",
              "      --bg-color: #3B4455;\n",
              "      --fill-color: #D2E3FC;\n",
              "      --hover-bg-color: #434B5C;\n",
              "      --hover-fill-color: #FFFFFF;\n",
              "      --disabled-bg-color: #3B4455;\n",
              "      --disabled-fill-color: #666;\n",
              "  }\n",
              "\n",
              "  .colab-df-quickchart {\n",
              "    background-color: var(--bg-color);\n",
              "    border: none;\n",
              "    border-radius: 50%;\n",
              "    cursor: pointer;\n",
              "    display: none;\n",
              "    fill: var(--fill-color);\n",
              "    height: 32px;\n",
              "    padding: 0;\n",
              "    width: 32px;\n",
              "  }\n",
              "\n",
              "  .colab-df-quickchart:hover {\n",
              "    background-color: var(--hover-bg-color);\n",
              "    box-shadow: 0 1px 2px rgba(60, 64, 67, 0.3), 0 1px 3px 1px rgba(60, 64, 67, 0.15);\n",
              "    fill: var(--button-hover-fill-color);\n",
              "  }\n",
              "\n",
              "  .colab-df-quickchart-complete:disabled,\n",
              "  .colab-df-quickchart-complete:disabled:hover {\n",
              "    background-color: var(--disabled-bg-color);\n",
              "    fill: var(--disabled-fill-color);\n",
              "    box-shadow: none;\n",
              "  }\n",
              "\n",
              "  .colab-df-spinner {\n",
              "    border: 2px solid var(--fill-color);\n",
              "    border-color: transparent;\n",
              "    border-bottom-color: var(--fill-color);\n",
              "    animation:\n",
              "      spin 1s steps(1) infinite;\n",
              "  }\n",
              "\n",
              "  @keyframes spin {\n",
              "    0% {\n",
              "      border-color: transparent;\n",
              "      border-bottom-color: var(--fill-color);\n",
              "      border-left-color: var(--fill-color);\n",
              "    }\n",
              "    20% {\n",
              "      border-color: transparent;\n",
              "      border-left-color: var(--fill-color);\n",
              "      border-top-color: var(--fill-color);\n",
              "    }\n",
              "    30% {\n",
              "      border-color: transparent;\n",
              "      border-left-color: var(--fill-color);\n",
              "      border-top-color: var(--fill-color);\n",
              "      border-right-color: var(--fill-color);\n",
              "    }\n",
              "    40% {\n",
              "      border-color: transparent;\n",
              "      border-right-color: var(--fill-color);\n",
              "      border-top-color: var(--fill-color);\n",
              "    }\n",
              "    60% {\n",
              "      border-color: transparent;\n",
              "      border-right-color: var(--fill-color);\n",
              "    }\n",
              "    80% {\n",
              "      border-color: transparent;\n",
              "      border-right-color: var(--fill-color);\n",
              "      border-bottom-color: var(--fill-color);\n",
              "    }\n",
              "    90% {\n",
              "      border-color: transparent;\n",
              "      border-bottom-color: var(--fill-color);\n",
              "    }\n",
              "  }\n",
              "</style>\n",
              "\n",
              "  <script>\n",
              "    async function quickchart(key) {\n",
              "      const quickchartButtonEl =\n",
              "        document.querySelector('#' + key + ' button');\n",
              "      quickchartButtonEl.disabled = true;  // To prevent multiple clicks.\n",
              "      quickchartButtonEl.classList.add('colab-df-spinner');\n",
              "      try {\n",
              "        const charts = await google.colab.kernel.invokeFunction(\n",
              "            'suggestCharts', [key], {});\n",
              "      } catch (error) {\n",
              "        console.error('Error during call to suggestCharts:', error);\n",
              "      }\n",
              "      quickchartButtonEl.classList.remove('colab-df-spinner');\n",
              "      quickchartButtonEl.classList.add('colab-df-quickchart-complete');\n",
              "    }\n",
              "    (() => {\n",
              "      let quickchartButtonEl =\n",
              "        document.querySelector('#df-2a509a39-a593-4c70-a7de-ded815b3acbe button');\n",
              "      quickchartButtonEl.style.display =\n",
              "        google.colab.kernel.accessAllowed ? 'block' : 'none';\n",
              "    })();\n",
              "  </script>\n",
              "</div>\n",
              "\n",
              "    </div>\n",
              "  </div>\n"
            ],
            "application/vnd.google.colaboratory.intrinsic+json": {
              "type": "dataframe",
              "variable_name": "df",
              "summary": "{\n  \"name\": \"df\",\n  \"rows\": 9799,\n  \"fields\": [\n    {\n      \"column\": \"A person on a horse jumps over a broken down airplane.\",\n      \"properties\": {\n        \"dtype\": \"category\",\n        \"num_unique_values\": 4011,\n        \"samples\": [\n          \"Two Asian people sit at a blue table in a food court.\",\n          \"A baby asleep in the parent's backpack.\",\n          \"A young boy on a blue bicycle and a man bent over making adjustments to the bicycle.\"\n        ],\n        \"semantic_type\": \"\",\n        \"description\": \"\"\n      }\n    },\n    {\n      \"column\": \"A person is at a diner, ordering an omelette.\",\n      \"properties\": {\n        \"dtype\": \"string\",\n        \"num_unique_values\": 9553,\n        \"samples\": [\n          \"The adults are outside\",\n          \"Adults are sitting at a picnic table.\",\n          \"A dog is outside.\"\n        ],\n        \"semantic_type\": \"\",\n        \"description\": \"\"\n      }\n    },\n    {\n      \"column\": \"0\",\n      \"properties\": {\n        \"dtype\": \"number\",\n        \"std\": 0.5000254756961373,\n        \"min\": 0.0,\n        \"max\": 1.0,\n        \"num_unique_values\": 2,\n        \"samples\": [\n          0.0,\n          1.0\n        ],\n        \"semantic_type\": \"\",\n        \"description\": \"\"\n      }\n    }\n  ]\n}"
            }
          },
          "metadata": {},
          "execution_count": 4
        }
      ]
    },
    {
      "cell_type": "code",
      "source": [
        "df.isnull().sum()"
      ],
      "metadata": {
        "id": "VfQVjpMk83KE",
        "colab": {
          "base_uri": "https://localhost:8080/"
        },
        "outputId": "23789105-43e4-46b0-b796-e13a6c8846f4"
      },
      "execution_count": 5,
      "outputs": [
        {
          "output_type": "execute_result",
          "data": {
            "text/plain": [
              "A person on a horse jumps over a broken down airplane.    0\n",
              "A person is at a diner, ordering an omelette.             0\n",
              "0                                                         1\n",
              "dtype: int64"
            ]
          },
          "metadata": {},
          "execution_count": 5
        }
      ]
    },
    {
      "cell_type": "code",
      "source": [
        "#text\n",
        "text = \"Two blond women are hugging one another\"\n",
        "\n",
        "# length of text ( includes spaces)\n",
        "print(\"length of text: \",len(text))\n",
        "\n",
        "# split the text\n",
        "splitted_text = text.split() # default split methods splits text according to spaces\n",
        "print(\"Splitted text: \",splitted_text)    # splitted_text is a list that includes words of text sentence\n",
        "# each word is called token in text maning world."
      ],
      "metadata": {
        "id": "saPnJxHr8_sY",
        "colab": {
          "base_uri": "https://localhost:8080/"
        },
        "outputId": "2e9f916c-31b7-4867-9946-8c8382358560"
      },
      "execution_count": 6,
      "outputs": [
        {
          "output_type": "stream",
          "name": "stdout",
          "text": [
            "length of text:  39\n",
            "Splitted text:  ['Two', 'blond', 'women', 'are', 'hugging', 'one', 'another']\n"
          ]
        }
      ]
    },
    {
      "cell_type": "code",
      "source": [
        "# find specific words with list comprehension method\n",
        "specific_words = [word for word in splitted_text if(len(word)>2)]\n",
        "print(\"Words which are more than 3 letter: \",specific_words)\n",
        "\n",
        "# capitalized words with istitle() method that finds capitalized words\n",
        "capital_words = [ word for word in splitted_text if word.istitle()]\n",
        "print(\"Capitalized words: \",capital_words)\n",
        "\n",
        "# words which end with \"o\": endswith() method finds last letter of word\n",
        "words_end_with_o =  [word for word in splitted_text if word.endswith(\"o\")]\n",
        "print(\"words end with o: \",words_end_with_o)\n",
        "\n",
        "# words which starts with \"w\": startswith() method\n",
        "words_start_with_w = [word for word in splitted_text if word.startswith(\"w\")]\n",
        "print(\"words start with w: \",words_start_with_w)"
      ],
      "metadata": {
        "id": "vm0JpdhU8_28",
        "colab": {
          "base_uri": "https://localhost:8080/"
        },
        "outputId": "3a097812-7b53-4084-b6c2-a634d15953a5"
      },
      "execution_count": 7,
      "outputs": [
        {
          "output_type": "stream",
          "name": "stdout",
          "text": [
            "Words which are more than 3 letter:  ['Two', 'blond', 'women', 'are', 'hugging', 'one', 'another']\n",
            "Capitalized words:  ['Two']\n",
            "words end with o:  ['Two']\n",
            "words start with w:  ['women']\n"
          ]
        }
      ]
    },
    {
      "cell_type": "code",
      "source": [
        "# unique with set() method\n",
        "print(\"unique words: \",set(splitted_text))  # actually the word \"no\" is occured twice bc one word is \"no\" and others \"No\" there is a capital letter at first letter\n",
        "\n",
        "# make all letters lowercase with lower() method\n",
        "lowercase_text = [word.lower() for word in splitted_text]\n",
        "\n",
        "# then find uniques again with set() method\n",
        "print(\"unique words: \",set(lowercase_text))"
      ],
      "metadata": {
        "id": "qnPnMJta8_5T",
        "colab": {
          "base_uri": "https://localhost:8080/"
        },
        "outputId": "52811247-102c-42b5-a40d-d3c928ed8c28"
      },
      "execution_count": 8,
      "outputs": [
        {
          "output_type": "stream",
          "name": "stdout",
          "text": [
            "unique words:  {'hugging', 'one', 'Two', 'another', 'blond', 'are', 'women'}\n",
            "unique words:  {'hugging', 'one', 'another', 'blond', 'two', 'are', 'women'}\n"
          ]
        }
      ]
    },
    {
      "cell_type": "code",
      "source": [
        "# check words includes or not includes particular substring or letter\n",
        "print(\"Is w letter in women word:\", \"w\" in \"women\")\n",
        "\n",
        "# check words are upper case or lower case\n",
        "print(\"Is word uppercase:\", \"WOMEN\".isupper())\n",
        "print(\"Is word lowercase:\", \"hugging\".islower())\n",
        "\n",
        "# check words are made of by digits or not\n",
        "print(\"Is word made of by digits: \",\"12345\".isdigit())\n",
        "\n",
        "# get rid of from white space characters like spaces and tabs or from unwanted letters with strip() method\n",
        "print(\"00000000Two blond: \",\"00000000Two blond\".strip(\"0\"))\n",
        "\n",
        "# find particular letter from front\n",
        "print(\"Find particular letter from back: \",\"one another\".find(\"r\"))  # at index 1\n",
        "\n",
        "# find particular letter from back  rfind = reverse find\n",
        "print(\"Find particular letter from back: \",\"one another\".rfind(\"r\"))  # at index 8\n",
        "\n",
        "# replace letter with number\n",
        "print(\"Replace o with 4 \", \"one another\".replace(\"r\",\"4\"))\n",
        "\n",
        "# find each letter and store them in list\n",
        "print(\"Each letter: \",list(\"Two blond\"))"
      ],
      "metadata": {
        "id": "8FFSbAQ18_8O",
        "colab": {
          "base_uri": "https://localhost:8080/"
        },
        "outputId": "96969407-737b-4356-8262-bca49fc1fe4f"
      },
      "execution_count": 9,
      "outputs": [
        {
          "output_type": "stream",
          "name": "stdout",
          "text": [
            "Is w letter in women word: True\n",
            "Is word uppercase: True\n",
            "Is word lowercase: True\n",
            "Is word made of by digits:  True\n",
            "00000000Two blond:  Two blond\n",
            "Find particular letter from back:  10\n",
            "Find particular letter from back:  10\n",
            "Replace o with 4  one anothe4\n",
            "Each letter:  ['T', 'w', 'o', ' ', 'b', 'l', 'o', 'n', 'd']\n"
          ]
        }
      ]
    },
    {
      "cell_type": "code",
      "source": [
        "# Cleaning text\n",
        "text1 = \"    The kids are frowning    \"\n",
        "print(\"Split text: \",text1.split(\" \"))   # as you can see there are unnecessary white space in list\n",
        "\n",
        "# get rid of from these unnecassary white spaces with strip() method then split\n",
        "print(\"Cleaned text: \",text1.strip().split(\" \"))"
      ],
      "metadata": {
        "id": "VxBmQRhL8__R",
        "colab": {
          "base_uri": "https://localhost:8080/"
        },
        "outputId": "0647c1bc-b7be-4066-bb6d-777d2699a428"
      },
      "execution_count": 10,
      "outputs": [
        {
          "output_type": "stream",
          "name": "stdout",
          "text": [
            "Split text:  ['', '', '', '', 'The', 'kids', 'are', 'frowning', '', '', '', '']\n",
            "Cleaned text:  ['The', 'kids', 'are', 'frowning']\n"
          ]
        }
      ]
    },
    {
      "cell_type": "code",
      "source": [
        "# reading files line by line\n",
        "f = open(\"train_snli.txt\",\"r\")\n",
        "\n",
        "# read first line\n",
        "print(f.readline())\n",
        "\n",
        "# length of text\n",
        "text3=f.read()\n",
        "print(\"Length of text: \",len(text3))\n",
        "\n",
        "# Number of lines with splitlines() method\n",
        "lines = text3.splitlines()\n",
        "print(\"Number of lines: \",len(lines))"
      ],
      "metadata": {
        "id": "89OPxAE59ACT",
        "colab": {
          "base_uri": "https://localhost:8080/"
        },
        "outputId": "82706c5a-2750-4a39-f3ff-102ed60ecffa"
      },
      "execution_count": 11,
      "outputs": [
        {
          "output_type": "stream",
          "name": "stdout",
          "text": [
            "A person on a horse jumps over a broken down airplane.\tA person is at a diner, ordering an omelette.\t0\n",
            "\n",
            "Length of text:  2097049\n",
            "Number of lines:  19813\n"
          ]
        }
      ]
    },
    {
      "cell_type": "code",
      "source": [
        "df = df.rename(columns={'A person on a horse jumps over a broken down airplane.':'person', 'A person is at a diner, ordering an omelette.': 'omelette'})"
      ],
      "metadata": {
        "id": "YhUwSg8K9AF4"
      },
      "execution_count": 12,
      "outputs": []
    },
    {
      "cell_type": "code",
      "source": [
        "df.head()"
      ],
      "metadata": {
        "id": "g9p6WnOq9NM2",
        "colab": {
          "base_uri": "https://localhost:8080/",
          "height": 206
        },
        "outputId": "56374997-3dab-4cbc-9e7c-57371620d00d"
      },
      "execution_count": 13,
      "outputs": [
        {
          "output_type": "execute_result",
          "data": {
            "text/plain": [
              "                                              person  \\\n",
              "0  A person on a horse jumps over a broken down a...   \n",
              "1              Children smiling and waving at camera   \n",
              "2              Children smiling and waving at camera   \n",
              "3  A boy is jumping on skateboard in the middle o...   \n",
              "4  A boy is jumping on skateboard in the middle o...   \n",
              "\n",
              "                              omelette    0  \n",
              "0    A person is outdoors, on a horse.  1.0  \n",
              "1           There are children present  1.0  \n",
              "2                The kids are frowning  0.0  \n",
              "3    The boy skates down the sidewalk.  0.0  \n",
              "4  The boy does a skateboarding trick.  1.0  "
            ],
            "text/html": [
              "\n",
              "  <div id=\"df-f0c3e4d2-97ae-4f64-9cb5-1accf93e5c18\" class=\"colab-df-container\">\n",
              "    <div>\n",
              "<style scoped>\n",
              "    .dataframe tbody tr th:only-of-type {\n",
              "        vertical-align: middle;\n",
              "    }\n",
              "\n",
              "    .dataframe tbody tr th {\n",
              "        vertical-align: top;\n",
              "    }\n",
              "\n",
              "    .dataframe thead th {\n",
              "        text-align: right;\n",
              "    }\n",
              "</style>\n",
              "<table border=\"1\" class=\"dataframe\">\n",
              "  <thead>\n",
              "    <tr style=\"text-align: right;\">\n",
              "      <th></th>\n",
              "      <th>person</th>\n",
              "      <th>omelette</th>\n",
              "      <th>0</th>\n",
              "    </tr>\n",
              "  </thead>\n",
              "  <tbody>\n",
              "    <tr>\n",
              "      <th>0</th>\n",
              "      <td>A person on a horse jumps over a broken down a...</td>\n",
              "      <td>A person is outdoors, on a horse.</td>\n",
              "      <td>1.0</td>\n",
              "    </tr>\n",
              "    <tr>\n",
              "      <th>1</th>\n",
              "      <td>Children smiling and waving at camera</td>\n",
              "      <td>There are children present</td>\n",
              "      <td>1.0</td>\n",
              "    </tr>\n",
              "    <tr>\n",
              "      <th>2</th>\n",
              "      <td>Children smiling and waving at camera</td>\n",
              "      <td>The kids are frowning</td>\n",
              "      <td>0.0</td>\n",
              "    </tr>\n",
              "    <tr>\n",
              "      <th>3</th>\n",
              "      <td>A boy is jumping on skateboard in the middle o...</td>\n",
              "      <td>The boy skates down the sidewalk.</td>\n",
              "      <td>0.0</td>\n",
              "    </tr>\n",
              "    <tr>\n",
              "      <th>4</th>\n",
              "      <td>A boy is jumping on skateboard in the middle o...</td>\n",
              "      <td>The boy does a skateboarding trick.</td>\n",
              "      <td>1.0</td>\n",
              "    </tr>\n",
              "  </tbody>\n",
              "</table>\n",
              "</div>\n",
              "    <div class=\"colab-df-buttons\">\n",
              "\n",
              "  <div class=\"colab-df-container\">\n",
              "    <button class=\"colab-df-convert\" onclick=\"convertToInteractive('df-f0c3e4d2-97ae-4f64-9cb5-1accf93e5c18')\"\n",
              "            title=\"Convert this dataframe to an interactive table.\"\n",
              "            style=\"display:none;\">\n",
              "\n",
              "  <svg xmlns=\"http://www.w3.org/2000/svg\" height=\"24px\" viewBox=\"0 -960 960 960\">\n",
              "    <path d=\"M120-120v-720h720v720H120Zm60-500h600v-160H180v160Zm220 220h160v-160H400v160Zm0 220h160v-160H400v160ZM180-400h160v-160H180v160Zm440 0h160v-160H620v160ZM180-180h160v-160H180v160Zm440 0h160v-160H620v160Z\"/>\n",
              "  </svg>\n",
              "    </button>\n",
              "\n",
              "  <style>\n",
              "    .colab-df-container {\n",
              "      display:flex;\n",
              "      gap: 12px;\n",
              "    }\n",
              "\n",
              "    .colab-df-convert {\n",
              "      background-color: #E8F0FE;\n",
              "      border: none;\n",
              "      border-radius: 50%;\n",
              "      cursor: pointer;\n",
              "      display: none;\n",
              "      fill: #1967D2;\n",
              "      height: 32px;\n",
              "      padding: 0 0 0 0;\n",
              "      width: 32px;\n",
              "    }\n",
              "\n",
              "    .colab-df-convert:hover {\n",
              "      background-color: #E2EBFA;\n",
              "      box-shadow: 0px 1px 2px rgba(60, 64, 67, 0.3), 0px 1px 3px 1px rgba(60, 64, 67, 0.15);\n",
              "      fill: #174EA6;\n",
              "    }\n",
              "\n",
              "    .colab-df-buttons div {\n",
              "      margin-bottom: 4px;\n",
              "    }\n",
              "\n",
              "    [theme=dark] .colab-df-convert {\n",
              "      background-color: #3B4455;\n",
              "      fill: #D2E3FC;\n",
              "    }\n",
              "\n",
              "    [theme=dark] .colab-df-convert:hover {\n",
              "      background-color: #434B5C;\n",
              "      box-shadow: 0px 1px 3px 1px rgba(0, 0, 0, 0.15);\n",
              "      filter: drop-shadow(0px 1px 2px rgba(0, 0, 0, 0.3));\n",
              "      fill: #FFFFFF;\n",
              "    }\n",
              "  </style>\n",
              "\n",
              "    <script>\n",
              "      const buttonEl =\n",
              "        document.querySelector('#df-f0c3e4d2-97ae-4f64-9cb5-1accf93e5c18 button.colab-df-convert');\n",
              "      buttonEl.style.display =\n",
              "        google.colab.kernel.accessAllowed ? 'block' : 'none';\n",
              "\n",
              "      async function convertToInteractive(key) {\n",
              "        const element = document.querySelector('#df-f0c3e4d2-97ae-4f64-9cb5-1accf93e5c18');\n",
              "        const dataTable =\n",
              "          await google.colab.kernel.invokeFunction('convertToInteractive',\n",
              "                                                    [key], {});\n",
              "        if (!dataTable) return;\n",
              "\n",
              "        const docLinkHtml = 'Like what you see? Visit the ' +\n",
              "          '<a target=\"_blank\" href=https://colab.research.google.com/notebooks/data_table.ipynb>data table notebook</a>'\n",
              "          + ' to learn more about interactive tables.';\n",
              "        element.innerHTML = '';\n",
              "        dataTable['output_type'] = 'display_data';\n",
              "        await google.colab.output.renderOutput(dataTable, element);\n",
              "        const docLink = document.createElement('div');\n",
              "        docLink.innerHTML = docLinkHtml;\n",
              "        element.appendChild(docLink);\n",
              "      }\n",
              "    </script>\n",
              "  </div>\n",
              "\n",
              "\n",
              "<div id=\"df-21f2ffd0-5d67-4c1c-806a-7c0d3be091ac\">\n",
              "  <button class=\"colab-df-quickchart\" onclick=\"quickchart('df-21f2ffd0-5d67-4c1c-806a-7c0d3be091ac')\"\n",
              "            title=\"Suggest charts\"\n",
              "            style=\"display:none;\">\n",
              "\n",
              "<svg xmlns=\"http://www.w3.org/2000/svg\" height=\"24px\"viewBox=\"0 0 24 24\"\n",
              "     width=\"24px\">\n",
              "    <g>\n",
              "        <path d=\"M19 3H5c-1.1 0-2 .9-2 2v14c0 1.1.9 2 2 2h14c1.1 0 2-.9 2-2V5c0-1.1-.9-2-2-2zM9 17H7v-7h2v7zm4 0h-2V7h2v10zm4 0h-2v-4h2v4z\"/>\n",
              "    </g>\n",
              "</svg>\n",
              "  </button>\n",
              "\n",
              "<style>\n",
              "  .colab-df-quickchart {\n",
              "      --bg-color: #E8F0FE;\n",
              "      --fill-color: #1967D2;\n",
              "      --hover-bg-color: #E2EBFA;\n",
              "      --hover-fill-color: #174EA6;\n",
              "      --disabled-fill-color: #AAA;\n",
              "      --disabled-bg-color: #DDD;\n",
              "  }\n",
              "\n",
              "  [theme=dark] .colab-df-quickchart {\n",
              "      --bg-color: #3B4455;\n",
              "      --fill-color: #D2E3FC;\n",
              "      --hover-bg-color: #434B5C;\n",
              "      --hover-fill-color: #FFFFFF;\n",
              "      --disabled-bg-color: #3B4455;\n",
              "      --disabled-fill-color: #666;\n",
              "  }\n",
              "\n",
              "  .colab-df-quickchart {\n",
              "    background-color: var(--bg-color);\n",
              "    border: none;\n",
              "    border-radius: 50%;\n",
              "    cursor: pointer;\n",
              "    display: none;\n",
              "    fill: var(--fill-color);\n",
              "    height: 32px;\n",
              "    padding: 0;\n",
              "    width: 32px;\n",
              "  }\n",
              "\n",
              "  .colab-df-quickchart:hover {\n",
              "    background-color: var(--hover-bg-color);\n",
              "    box-shadow: 0 1px 2px rgba(60, 64, 67, 0.3), 0 1px 3px 1px rgba(60, 64, 67, 0.15);\n",
              "    fill: var(--button-hover-fill-color);\n",
              "  }\n",
              "\n",
              "  .colab-df-quickchart-complete:disabled,\n",
              "  .colab-df-quickchart-complete:disabled:hover {\n",
              "    background-color: var(--disabled-bg-color);\n",
              "    fill: var(--disabled-fill-color);\n",
              "    box-shadow: none;\n",
              "  }\n",
              "\n",
              "  .colab-df-spinner {\n",
              "    border: 2px solid var(--fill-color);\n",
              "    border-color: transparent;\n",
              "    border-bottom-color: var(--fill-color);\n",
              "    animation:\n",
              "      spin 1s steps(1) infinite;\n",
              "  }\n",
              "\n",
              "  @keyframes spin {\n",
              "    0% {\n",
              "      border-color: transparent;\n",
              "      border-bottom-color: var(--fill-color);\n",
              "      border-left-color: var(--fill-color);\n",
              "    }\n",
              "    20% {\n",
              "      border-color: transparent;\n",
              "      border-left-color: var(--fill-color);\n",
              "      border-top-color: var(--fill-color);\n",
              "    }\n",
              "    30% {\n",
              "      border-color: transparent;\n",
              "      border-left-color: var(--fill-color);\n",
              "      border-top-color: var(--fill-color);\n",
              "      border-right-color: var(--fill-color);\n",
              "    }\n",
              "    40% {\n",
              "      border-color: transparent;\n",
              "      border-right-color: var(--fill-color);\n",
              "      border-top-color: var(--fill-color);\n",
              "    }\n",
              "    60% {\n",
              "      border-color: transparent;\n",
              "      border-right-color: var(--fill-color);\n",
              "    }\n",
              "    80% {\n",
              "      border-color: transparent;\n",
              "      border-right-color: var(--fill-color);\n",
              "      border-bottom-color: var(--fill-color);\n",
              "    }\n",
              "    90% {\n",
              "      border-color: transparent;\n",
              "      border-bottom-color: var(--fill-color);\n",
              "    }\n",
              "  }\n",
              "</style>\n",
              "\n",
              "  <script>\n",
              "    async function quickchart(key) {\n",
              "      const quickchartButtonEl =\n",
              "        document.querySelector('#' + key + ' button');\n",
              "      quickchartButtonEl.disabled = true;  // To prevent multiple clicks.\n",
              "      quickchartButtonEl.classList.add('colab-df-spinner');\n",
              "      try {\n",
              "        const charts = await google.colab.kernel.invokeFunction(\n",
              "            'suggestCharts', [key], {});\n",
              "      } catch (error) {\n",
              "        console.error('Error during call to suggestCharts:', error);\n",
              "      }\n",
              "      quickchartButtonEl.classList.remove('colab-df-spinner');\n",
              "      quickchartButtonEl.classList.add('colab-df-quickchart-complete');\n",
              "    }\n",
              "    (() => {\n",
              "      let quickchartButtonEl =\n",
              "        document.querySelector('#df-21f2ffd0-5d67-4c1c-806a-7c0d3be091ac button');\n",
              "      quickchartButtonEl.style.display =\n",
              "        google.colab.kernel.accessAllowed ? 'block' : 'none';\n",
              "    })();\n",
              "  </script>\n",
              "</div>\n",
              "\n",
              "    </div>\n",
              "  </div>\n"
            ],
            "application/vnd.google.colaboratory.intrinsic+json": {
              "type": "dataframe",
              "variable_name": "df",
              "summary": "{\n  \"name\": \"df\",\n  \"rows\": 9799,\n  \"fields\": [\n    {\n      \"column\": \"person\",\n      \"properties\": {\n        \"dtype\": \"category\",\n        \"num_unique_values\": 4011,\n        \"samples\": [\n          \"Two Asian people sit at a blue table in a food court.\",\n          \"A baby asleep in the parent's backpack.\",\n          \"A young boy on a blue bicycle and a man bent over making adjustments to the bicycle.\"\n        ],\n        \"semantic_type\": \"\",\n        \"description\": \"\"\n      }\n    },\n    {\n      \"column\": \"omelette\",\n      \"properties\": {\n        \"dtype\": \"string\",\n        \"num_unique_values\": 9553,\n        \"samples\": [\n          \"The adults are outside\",\n          \"Adults are sitting at a picnic table.\",\n          \"A dog is outside.\"\n        ],\n        \"semantic_type\": \"\",\n        \"description\": \"\"\n      }\n    },\n    {\n      \"column\": \"0\",\n      \"properties\": {\n        \"dtype\": \"number\",\n        \"std\": 0.5000254756961373,\n        \"min\": 0.0,\n        \"max\": 1.0,\n        \"num_unique_values\": 2,\n        \"samples\": [\n          0.0,\n          1.0\n        ],\n        \"semantic_type\": \"\",\n        \"description\": \"\"\n      }\n    }\n  ]\n}"
            }
          },
          "metadata": {},
          "execution_count": 13
        }
      ]
    },
    {
      "cell_type": "code",
      "source": [
        "print(\"In this text, the rate of occuring boy word is: \",sum(df.person.str.contains('boy'))/len(df))\n",
        "# text\n",
        "text = df.person[1]\n",
        "print(text)"
      ],
      "metadata": {
        "id": "wauyJ94W9NPU",
        "colab": {
          "base_uri": "https://localhost:8080/"
        },
        "outputId": "0722afc3-5337-46a7-8744-05fddd0cb52d"
      },
      "execution_count": 14,
      "outputs": [
        {
          "output_type": "stream",
          "name": "stdout",
          "text": [
            "In this text, the rate of occuring boy word is:  0.06663945300540872\n",
            "Children smiling and waving at camera\n"
          ]
        }
      ]
    },
    {
      "cell_type": "code",
      "source": [
        "# find regular expression on text\n",
        "# import regular expression package\n",
        "import re\n",
        "# find callouts that starts with @\n",
        "callouts = [word for word in text.split(\" \") if re.search(\"@[A-Za-z0-9_]+\",word)]\n",
        "print(\"callouts: \",callouts)"
      ],
      "metadata": {
        "id": "fOmcCb8Q9NSF",
        "colab": {
          "base_uri": "https://localhost:8080/"
        },
        "outputId": "294ab7e0-06e4-40b0-91ad-3f48dd666263"
      },
      "execution_count": 15,
      "outputs": [
        {
          "output_type": "stream",
          "name": "stdout",
          "text": [
            "callouts:  []\n"
          ]
        }
      ]
    },
    {
      "cell_type": "code",
      "source": [
        "# find specific characters like \"w\"\n",
        "print(re.findall(r\"[w]\",text))\n",
        "# \"w\"ith, \"w\"indo\"w\", sho\"w\"ing, s\"w\"itches\n",
        "\n",
        "# do not find specific character like \"w\". We will use \"^\" symbol\n",
        "print(re.findall(r\"[^w]\",text))"
      ],
      "metadata": {
        "id": "iB9XOMcu9NUu",
        "colab": {
          "base_uri": "https://localhost:8080/"
        },
        "outputId": "0e1c3fd3-3704-4a0d-8da9-ac2e962abbd6"
      },
      "execution_count": 16,
      "outputs": [
        {
          "output_type": "stream",
          "name": "stdout",
          "text": [
            "['w']\n",
            "['C', 'h', 'i', 'l', 'd', 'r', 'e', 'n', ' ', 's', 'm', 'i', 'l', 'i', 'n', 'g', ' ', 'a', 'n', 'd', ' ', 'a', 'v', 'i', 'n', 'g', ' ', 'a', 't', ' ', 'c', 'a', 'm', 'e', 'r', 'a']\n"
          ]
        }
      ]
    },
    {
      "cell_type": "code",
      "source": [
        "# NLP ( Natural Language Processing)"
      ],
      "metadata": {
        "id": "GQB-gKzm9NXN"
      },
      "execution_count": 17,
      "outputs": []
    },
    {
      "cell_type": "code",
      "source": [
        "# import natural language tool kit\n",
        "import nltk as nlp\n",
        "\n",
        "# counting vocabulary of words\n",
        "text = df.person[1]\n",
        "splitted = text.split(\" \")\n",
        "print(\"number of words: \",len(splitted))\n",
        "\n",
        "# counting unique vocabulary of words\n",
        "text = df.person[1]\n",
        "print(\"number of unique words: \",len(set(splitted)))\n",
        "\n",
        "# print first five unique words\n",
        "print(\"first 5 unique words: \",list(set(splitted))[:5])\n",
        "\n",
        "# frequency of words\n",
        "dist = nlp.FreqDist(splitted)\n",
        "print(\"frequency of words: \",dist)\n",
        "\n",
        "# look at keys in dist\n",
        "print(\"words in person: \",dist.keys())\n",
        "\n",
        "# count how many time a particalar value occurs. Lets look at \"box\"\n",
        "print(\"the word box is occured how many times:\",dist[\"box\"])"
      ],
      "metadata": {
        "id": "Wb52VkSy9NZp",
        "colab": {
          "base_uri": "https://localhost:8080/"
        },
        "outputId": "b4d1b915-2522-4da2-bfbf-7d0492abd922"
      },
      "execution_count": 18,
      "outputs": [
        {
          "output_type": "stream",
          "name": "stdout",
          "text": [
            "number of words:  6\n",
            "number of unique words:  6\n",
            "first 5 unique words:  ['Children', 'at', 'camera', 'and', 'waving']\n",
            "frequency of words:  <FreqDist with 6 samples and 6 outcomes>\n",
            "words in person:  dict_keys(['Children', 'smiling', 'and', 'waving', 'at', 'camera'])\n",
            "the word box is occured how many times: 0\n"
          ]
        }
      ]
    },
    {
      "cell_type": "code",
      "source": [
        "# Normalization and Stemming words"
      ],
      "metadata": {
        "id": "RG2K3HOT9Ncx"
      },
      "execution_count": 19,
      "outputs": []
    },
    {
      "cell_type": "code",
      "source": [
        "# normalization\n",
        "words = \"task Tasked tasks tasking\"\n",
        "words_list = words.lower().split(\" \")\n",
        "print(\"normalized words: \",words_list)\n",
        "\n",
        "# stemming\n",
        "porter_stemmer = nlp.PorterStemmer()\n",
        "roots = [porter_stemmer.stem(each) for each in words_list]\n",
        "print(\"roots of task Tasked tasks tasking: \",roots)"
      ],
      "metadata": {
        "id": "uu2jWznF9NgL",
        "colab": {
          "base_uri": "https://localhost:8080/"
        },
        "outputId": "97838d09-0be7-4bfa-f826-a4babcc8affa"
      },
      "execution_count": 20,
      "outputs": [
        {
          "output_type": "stream",
          "name": "stdout",
          "text": [
            "normalized words:  ['task', 'tasked', 'tasks', 'tasking']\n",
            "roots of task Tasked tasks tasking:  ['task', 'task', 'task', 'task']\n"
          ]
        }
      ]
    },
    {
      "cell_type": "code",
      "source": [
        "# Lemmatization"
      ],
      "metadata": {
        "id": "846LALv29fAg"
      },
      "execution_count": 21,
      "outputs": []
    },
    {
      "cell_type": "code",
      "source": [
        "# stemming\n",
        "import nltk\n",
        "nltk.download('wordnet')\n",
        "\n",
        "stemming_word_list = [\"baseball\",\"airplane\",\"restaurant\",\"drinking\",\"outdoors\"]\n",
        "porter_stemmer = nlp.PorterStemmer()\n",
        "roots = [porter_stemmer.stem(each) for each in stemming_word_list]\n",
        "print(\"result of stemming: \",roots)\n",
        "\n",
        "# lemmatization\n",
        "lemma = nlp.WordNetLemmatizer()\n",
        "lemma_roots = [lemma.lemmatize(each) for each in stemming_word_list]\n",
        "print(\"result of lemmatization: \",lemma_roots)"
      ],
      "metadata": {
        "id": "DOgQdNTE9fJn",
        "colab": {
          "base_uri": "https://localhost:8080/"
        },
        "outputId": "b668d80a-ea57-414b-e61c-d3c0b7ac344c"
      },
      "execution_count": 22,
      "outputs": [
        {
          "output_type": "stream",
          "name": "stderr",
          "text": [
            "[nltk_data] Downloading package wordnet to /root/nltk_data...\n"
          ]
        },
        {
          "output_type": "stream",
          "name": "stdout",
          "text": [
            "result of stemming:  ['basebal', 'airplan', 'restaur', 'drink', 'outdoor']\n",
            "result of lemmatization:  ['baseball', 'airplane', 'restaurant', 'drinking', 'outdoors']\n"
          ]
        }
      ]
    },
    {
      "cell_type": "code",
      "source": [
        "# Tokenization"
      ],
      "metadata": {
        "id": "eRLOrWN59fM1"
      },
      "execution_count": 23,
      "outputs": []
    },
    {
      "cell_type": "code",
      "source": [
        "import nltk\n",
        "nltk.download('punkt')\n",
        "\n",
        "text_t = \"Two groups of rival gang members flipped each other off.\"\n",
        "print(\"split the sentence: \", text_t.split(\" \"))  # 5 words\n",
        "\n",
        "# tokenization with nltk\n",
        "print(\"tokenize with nltk: \",nlp.word_tokenize(text_t))"
      ],
      "metadata": {
        "id": "mvAcV5Vw9fPY",
        "colab": {
          "base_uri": "https://localhost:8080/"
        },
        "outputId": "7cc26c94-9f51-417a-fd02-5d2d24f075d4"
      },
      "execution_count": 24,
      "outputs": [
        {
          "output_type": "stream",
          "name": "stderr",
          "text": [
            "[nltk_data] Downloading package punkt to /root/nltk_data...\n",
            "[nltk_data]   Unzipping tokenizers/punkt.zip.\n"
          ]
        },
        {
          "output_type": "stream",
          "name": "stdout",
          "text": [
            "split the sentence:  ['Two', 'groups', 'of', 'rival', 'gang', 'members', 'flipped', 'each', 'other', 'off.']\n",
            "tokenize with nltk:  ['Two', 'groups', 'of', 'rival', 'gang', 'members', 'flipped', 'each', 'other', 'off', '.']\n"
          ]
        }
      ]
    },
    {
      "cell_type": "code",
      "source": [
        "# categorical features with missing values\n",
        "categorical_nan = [feature for feature in df.columns if df[feature].isna().sum()>0 and df[feature].dtypes=='O']\n",
        "print(categorical_nan)"
      ],
      "metadata": {
        "id": "kOmrJNEx9fSc",
        "colab": {
          "base_uri": "https://localhost:8080/"
        },
        "outputId": "f405d22e-c0d2-422d-ca53-22369d1b5ef5"
      },
      "execution_count": 25,
      "outputs": [
        {
          "output_type": "stream",
          "name": "stdout",
          "text": [
            "[]\n"
          ]
        }
      ]
    },
    {
      "cell_type": "code",
      "source": [
        "# replacing missing values in categorical features\n",
        "for feature in categorical_nan:\n",
        "    df[feature] = df[feature].fillna('None')"
      ],
      "metadata": {
        "id": "6PAAxkMz9fVY"
      },
      "execution_count": 26,
      "outputs": []
    },
    {
      "cell_type": "code",
      "source": [
        "df[categorical_nan].isna().sum()"
      ],
      "metadata": {
        "id": "FTG5E5NN9fYc",
        "colab": {
          "base_uri": "https://localhost:8080/"
        },
        "outputId": "4b577b6c-59df-440a-d81c-e4c9618c2cc1"
      },
      "execution_count": 27,
      "outputs": [
        {
          "output_type": "execute_result",
          "data": {
            "text/plain": [
              "Series([], dtype: float64)"
            ]
          },
          "metadata": {},
          "execution_count": 27
        }
      ]
    },
    {
      "cell_type": "code",
      "source": [
        "# creating bag of words model\n",
        "from sklearn.feature_extraction.text import CountVectorizer  # for bag of words\n",
        "max_features = 150 # max_features dimension reduction\n",
        "count_vectorizer = CountVectorizer(stop_words=\"english\", max_features=max_features)\n",
        "review_list = df.iloc[:,1] #fixed by Billa comment @skbilla\n",
        "\n",
        "# stop_words parameter = automatically remove all stopwords\n",
        "# lowercase parameter\n",
        "# token_pattern removing other karakters like .. !\n",
        "\n",
        "sparce_matrix = count_vectorizer.fit_transform(review_list).toarray() # sparce matrix yaratir bag of words model = sparce matrix\n",
        "\n",
        "print(\"Most used {} words: {}\".format(max_features, count_vectorizer.get_feature_names_out()))\n",
        "\n",
        "\n",
        "y = df.iloc[:,0].values  # positive or negative comment\n",
        "\n",
        "#sparce matrix includes independent variable"
      ],
      "metadata": {
        "id": "6_kSZvK99sqW",
        "colab": {
          "base_uri": "https://localhost:8080/"
        },
        "outputId": "4be12b86-3891-4842-f459-e5f6046e8c19"
      },
      "execution_count": 29,
      "outputs": [
        {
          "output_type": "stream",
          "name": "stdout",
          "text": [
            "Most used 150 words: ['adults' 'animal' 'asleep' 'baby' 'ball' 'band' 'baseball' 'basketball'\n",
            " 'beach' 'bed' 'bench' 'bicycle' 'bike' 'black' 'blue' 'boat' 'book' 'boy'\n",
            " 'boys' 'building' 'camera' 'car' 'cat' 'child' 'children' 'city'\n",
            " 'clothes' 'construction' 'cooking' 'couch' 'couple' 'crowd' 'dancing'\n",
            " 'dinner' 'dog' 'dogs' 'doing' 'dress' 'dressed' 'drinking' 'driving'\n",
            " 'eating' 'female' 'field' 'floor' 'food' 'football' 'game' 'getting'\n",
            " 'girl' 'girls' 'going' 'grass' 'green' 'ground' 'group' 'guitar' 'guy'\n",
            " 'hair' 'hands' 'hat' 'having' 'holding' 'home' 'horse' 'house' 'indoors'\n",
            " 'inside' 'jumping' 'jumps' 'kid' 'kids' 'kitchen' 'lady' 'large' 'laying'\n",
            " 'little' 'looking' 'looks' 'making' 'man' 'men' 'motorcycle' 'mountain'\n",
            " 'music' 'near' 'ocean' 'old' 'orange' 'outdoors' 'outside' 'painting'\n",
            " 'park' 'people' 'performing' 'person' 'phone' 'picture' 'play' 'player'\n",
            " 'players' 'playing' 'plays' 'pool' 'reading' 'red' 'restaurant' 'rides'\n",
            " 'riding' 'road' 'room' 'running' 'shirt' 'sidewalk' 'sign' 'sits'\n",
            " 'sitting' 'sleeping' 'small' 'snow' 'soccer' 'stand' 'standing' 'stands'\n",
            " 'store' 'street' 'swimming' 'table' 'taking' 'talking' 'team' 'train'\n",
            " 'tree' 'using' 'waiting' 'walk' 'walking' 'walks' 'wall' 'watching'\n",
            " 'water' 'wearing' 'white' 'woman' 'women' 'work' 'workers' 'working'\n",
            " 'yellow' 'young']\n"
          ]
        }
      ]
    },
    {
      "cell_type": "code",
      "source": [
        "# train test split\n",
        "from sklearn.model_selection import train_test_split\n",
        "\n",
        "x_train, x_test, y_train, y_test = train_test_split(sparce_matrix,y,test_size = 0.1,random_state = 0)"
      ],
      "metadata": {
        "id": "zk3Plkh_9stC"
      },
      "execution_count": 30,
      "outputs": []
    },
    {
      "cell_type": "code",
      "source": [
        "# naive bayes\n",
        "from sklearn.naive_bayes import GaussianNB\n",
        "import pickle\n",
        "\n",
        "model_filename = 'naive_bayes_model.pkl'\n",
        "\n",
        "if os.path.exists(model_filename):\n",
        "    # Load the model from the file if it exists\n",
        "    with open(model_filename, 'rb') as file:\n",
        "        nb = pickle.load(file)\n",
        "else:\n",
        "    # Train the model if the file does not exist\n",
        "    nb = GaussianNB()\n",
        "    nb.fit(sparce_matrix, y)\n",
        "\n",
        "    # Save the model to a file\n",
        "    with open(model_filename, 'wb') as file:\n",
        "        pickle.dump(nb, file)\n"
      ],
      "metadata": {
        "id": "lb4Z0Ynv9sv5"
      },
      "execution_count": 37,
      "outputs": []
    },
    {
      "cell_type": "code",
      "source": [
        "plagiarism_file = 'train_snli.txt'\n",
        "with open(plagiarism_file) as f: # The with keyword automatically closes the file when you are done\n",
        "    print (f.read(3000))"
      ],
      "metadata": {
        "id": "4Whi_zxL9s1L",
        "colab": {
          "base_uri": "https://localhost:8080/"
        },
        "outputId": "84680500-1d2c-45ab-cd8a-e44f64acfd2c"
      },
      "execution_count": 39,
      "outputs": [
        {
          "output_type": "stream",
          "name": "stdout",
          "text": [
            "A person on a horse jumps over a broken down airplane.\tA person is at a diner, ordering an omelette.\t0\n",
            "A person on a horse jumps over a broken down airplane.\tA person is outdoors, on a horse.\t1\n",
            "Children smiling and waving at camera\tThere are children present\t1\n",
            "Children smiling and waving at camera\tThe kids are frowning\t0\n",
            "A boy is jumping on skateboard in the middle of a red bridge.\tThe boy skates down the sidewalk.\t0\n",
            "A boy is jumping on skateboard in the middle of a red bridge.\tThe boy does a skateboarding trick.\t1\n",
            "An older man sits with his orange juice at a small table in a coffee shop while employees in bright colored shirts smile in the background.\tA boy flips a burger.\t0\n",
            "Two blond women are hugging one another.\tThe women are sleeping.\t0\n",
            "Two blond women are hugging one another.\tThere are women showing affection.\t1\n",
            "A few people in a restaurant setting, one of them is drinking orange juice.\tThe people are sitting at desks in school.\t0\n",
            "A few people in a restaurant setting, one of them is drinking orange juice.\tThe diners are at a restaurant.\t1\n",
            "An older man is drinking orange juice at a restaurant.\tA man is drinking juice.\t1\n",
            "An older man is drinking orange juice at a restaurant.\tTwo women are at a restaurant drinking wine.\t0\n",
            "A man with blond-hair, and a brown shirt drinking out of a public water fountain.\tA blond man wearing a brown shirt is reading a book on a bench in the park\t0\n",
            "A man with blond-hair, and a brown shirt drinking out of a public water fountain.\tA blond man drinking water from a fountain.\t1\n",
            "Two women who just had lunch hugging and saying goodbye.\tThe friends scowl at each other over a full dinner table.\t0\n",
            "Two women who just had lunch hugging and saying goodbye.\tThere are two woman in this picture.\t1\n",
            "Two women, holding food carryout containers, hug.\tTwo groups of rival gang members flipped each other off.\t0\n",
            "Two women, holding food carryout containers, hug.\tTwo women hug each other.\t1\n",
            "A Little League team tries to catch a runner sliding into a base in an afternoon game.\tA team is trying to tag a runner out.\t1\n",
            "A Little League team tries to catch a runner sliding into a base in an afternoon game.\tA team is playing baseball on Saturn.\t0\n",
            "The school is having a special event in order to show the american culture on how other cultures are dealt with in parties.\tA school hosts a basketball game.\t0\n",
            "The school is having a special event in order to show the american culture on how other cultures are dealt with in parties.\tA school is hosting an event.\t1\n",
            "High fashion ladies wait outside a tram beside a crowd of people in the city.\tThe women do not care what clothes they wear.\t0\n",
            "High fashion ladies wait outside a tram beside a crowd of people in the city.\tWomen are waiting by a tram.\t1\n",
            "A man, woman, and child enjoying themselves on a beach.\tA family of three is at the beach.\t1\n",
            "A man, woman, and child enjoying themselves on a beach.\tA family of three is at the mall shopping.\t0\n",
            "People waiting to get on a train or just getting off.\tThere are peopl\n"
          ]
        }
      ]
    },
    {
      "cell_type": "code",
      "source": [],
      "metadata": {
        "id": "TO1N-vSx9s4S"
      },
      "execution_count": null,
      "outputs": []
    },
    {
      "cell_type": "code",
      "source": [],
      "metadata": {
        "id": "c0E5PiJW9s74"
      },
      "execution_count": null,
      "outputs": []
    },
    {
      "cell_type": "code",
      "source": [],
      "metadata": {
        "id": "NbJSkPKj9fb2"
      },
      "execution_count": null,
      "outputs": []
    }
  ]
}